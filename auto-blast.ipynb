{
 "cells": [
  {
   "cell_type": "markdown",
   "id": "fd5cd908",
   "metadata": {},
   "source": [
    "# ✨ WhatsApp Auto Blast ✨\n",
    "---"
   ]
  },
  {
   "cell_type": "code",
   "execution_count": 97,
   "id": "52f7c6b6",
   "metadata": {},
   "outputs": [],
   "source": [
    "# === LIBRARY ====\n",
    "\n",
    "import os\n",
    "import csv\n",
    "import time\n",
    "import string\n",
    "import pyautogui\n",
    "import random\n",
    "import pywhatkit.whats as pw\n",
    "import tkinter as tk\n",
    "from tkinter import messagebox\n",
    "from utils.wa_utils import detect_whatsapp_error, fixNumber, log_status"
   ]
  },
  {
   "cell_type": "code",
   "execution_count": null,
   "id": "76cdd36c",
   "metadata": {},
   "outputs": [],
   "source": [
    "# === MESSAGE TEMPLATE ===\n",
    "\n",
    "HELLO: str = \"\"\"\\\n",
    "Halo {name}, Kenalin aku Ryan IF-158 👋\n",
    "\"\"\"\n",
    "\n",
    "CUSTOM: str = \"\"\"\\\n",
    "Custom\n",
    "\"\"\""
   ]
  },
  {
   "cell_type": "code",
   "execution_count": null,
   "id": "ae051c24",
   "metadata": {},
   "outputs": [],
   "source": [
    "# === CONFIGURATION === \n",
    "# (Just Modify Here)\n",
    "\n",
    "message_template: str = HELLO\n",
    "\n",
    "delay_awal: int = random.randint(10, 12)\n",
    "delay_akhir: int = random.randint(2, 3)"
   ]
  },
  {
   "cell_type": "code",
   "execution_count": null,
   "id": "fe96348f",
   "metadata": {},
   "outputs": [],
   "source": [
    "# === ACTION ===\n",
    "\n",
    "# Path Configuration\n",
    "phone_column: str = \"number\"\n",
    "file_path: str = \"input.csv\"\n",
    "\n",
    "# Read CSV file\n",
    "with open(file_path, \"r\", encoding=\"utf-8\") as file:\n",
    "    reader = csv.DictReader(file)\n",
    "    for row in reader:\n",
    "\n",
    "        # Check if phone column exists and is not empty\n",
    "        if phone_column not in row:\n",
    "            status: str = f\"⚠️ ERROR: Column \\'{phone_column}\\' not found in CSV header.\"\n",
    "            log_status(\"...\", status)\n",
    "            continue\n",
    "        elif not row[phone_column].strip():\n",
    "            status: str = f\"⚠️ ERROR: Column \\'{phone_column}\\' value is empty.\"\n",
    "            log_status(\"...\", status)\n",
    "            continue\n",
    "        \n",
    "        # Fix number format\n",
    "        number: str = fixNumber(row[phone_column])\n",
    "\n",
    "        # Check for required keys in the message template\n",
    "        required_keys: list[str] = [field_name[1] for field_name in string.Formatter().parse(message_template) if field_name[1]]\n",
    "\n",
    "        missing_keys: set[str] = set()\n",
    "        empty_keys: set[str] = set()\n",
    "\n",
    "        for key in required_keys:\n",
    "            if key not in row:\n",
    "                missing_keys.add(key)\n",
    "            elif not row[key].strip():\n",
    "                empty_keys.add(key)\n",
    "\n",
    "        if missing_keys:\n",
    "            status: str = f\"⚠️ ERROR: Missing column(s) in CSV header: {', '.join(sorted(missing_keys))}\"\n",
    "            log_status(number, status)\n",
    "            continue\n",
    "\n",
    "        if empty_keys:\n",
    "            status: str = f\"⚠️ ERROR: Empty value(s) in row for column(s): {', '.join(sorted(empty_keys))}\"\n",
    "            log_status(number, status)\n",
    "            continue\n",
    "        \n",
    "        # Make the message\n",
    "        msg: str = message_template.format(**row)\n",
    "\n",
    "        # Send message\n",
    "        pw.sendwhatmsg_instantly(number, msg, wait_time=delay_awal, tab_close=False, close_time=delay_akhir)\n",
    "        time.sleep(random.uniform(2.5, 4.5))\n",
    "\n",
    "        # Check for possible errors\n",
    "        status: str = detect_whatsapp_error(file_path)\n",
    "        \n",
    "        # Close tab\n",
    "        time.sleep(random.uniform(0.4, 0.8))\n",
    "        pyautogui.hotkey('ctrl', 'w')\n",
    "\n",
    "        # Logging\n",
    "        log_status(number, status)\n",
    "        \n",
    "# Cleanup\n",
    "if os.path.exists(\"PyWhatKit_DB.txt\"):\n",
    "    os.remove(\"PyWhatKit_DB.txt\")\n",
    "\n",
    "# Notification\n",
    "root = tk.Tk()\n",
    "root.withdraw()\n",
    "messagebox.showinfo(\"Selesai\", \"Proses selesai!\")"
   ]
  }
 ],
 "metadata": {
  "kernelspec": {
   "display_name": "Python 3",
   "language": "python",
   "name": "python3"
  },
  "language_info": {
   "codemirror_mode": {
    "name": "ipython",
    "version": 3
   },
   "file_extension": ".py",
   "mimetype": "text/x-python",
   "name": "python",
   "nbconvert_exporter": "python",
   "pygments_lexer": "ipython3",
   "version": "3.13.5"
  }
 },
 "nbformat": 4,
 "nbformat_minor": 5
}
